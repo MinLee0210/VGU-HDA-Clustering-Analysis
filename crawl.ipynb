{
 "cells": [
  {
   "cell_type": "code",
   "execution_count": 27,
   "metadata": {},
   "outputs": [],
   "source": [
    "import os\n",
    "import re\n",
    "\n",
    "from bs4 import BeautifulSoup\n",
    "from urllib.request import urlopen, Request\n",
    "from urllib.parse import urlparse\n",
    "\n",
    "from tqdm import tqdm\n"
   ]
  },
  {
   "cell_type": "code",
   "execution_count": 35,
   "metadata": {},
   "outputs": [],
   "source": [
    "def checkURL(requested_url):\n",
    "    if not urlparse(requested_url).scheme:\n",
    "        requested_url = \"https://\" + requested_url\n",
    "    return requested_url\n",
    "\n",
    "\n",
    "def requestAndParse(requested_url):\n",
    "    requested_url = checkURL(requested_url)\n",
    "    try:\n",
    "        # define headers to be provided for request authentication\n",
    "        headers = {'User-Agent': 'Mozilla/5.0 (X11; Linux x86_64) ' \n",
    "                        'AppleWebKit/537.11 (KHTML, like Gecko) '\n",
    "                        'Chrome/23.0.1271.64 Safari/537.11',\n",
    "            'Accept': 'text/html,application/xhtml+xml,application/xml;q=0.9,*/*;q=0.8',\n",
    "            'Accept-Charset': 'ISO-8859-1,utf-8;q=0.7,*;q=0.3',\n",
    "            'Accept-Encoding': 'none',\n",
    "            'Accept-Language': 'en-US,en;q=0.8',\n",
    "            'Connection': 'keep-alive'}\n",
    "        request_obj = Request(url=requested_url, headers=headers)\n",
    "        page_html = urlopen(request_obj)\n",
    "        page_soup = BeautifulSoup(page_html, \"html.parser\")\n",
    "        return page_soup\n",
    "\n",
    "    except Exception as e:\n",
    "        print(e)\n",
    "\n",
    "def crawlImageURL(soupObject):\n",
    "    collection = []\n",
    "    soup = soupObject\n",
    "    for img in soup.find_all('img'):\n",
    "        collection.append(img.attrs['src'])\n",
    "    return set(collection)"
   ]
  },
  {
   "cell_type": "code",
   "execution_count": 38,
   "metadata": {},
   "outputs": [
    {
     "data": {
      "text/plain": [
       "36"
      ]
     },
     "execution_count": 38,
     "metadata": {},
     "output_type": "execute_result"
    }
   ],
   "source": [
    "soupObject = requestAndParse('https://www.pexels.com/vi-vn/tim-kiem/cat/')\n",
    "imgCollection = crawlImageURL(soupObject)\n",
    "len(imgCollection)"
   ]
  }
 ],
 "metadata": {
  "kernelspec": {
   "display_name": "Python 3.10.6 64-bit",
   "language": "python",
   "name": "python3"
  },
  "language_info": {
   "codemirror_mode": {
    "name": "ipython",
    "version": 3
   },
   "file_extension": ".py",
   "mimetype": "text/x-python",
   "name": "python",
   "nbconvert_exporter": "python",
   "pygments_lexer": "ipython3",
   "version": "3.10.6"
  },
  "orig_nbformat": 4,
  "vscode": {
   "interpreter": {
    "hash": "916dbcbb3f70747c44a77c7bcd40155683ae19c65e1c03b4aa3499c5328201f1"
   }
  }
 },
 "nbformat": 4,
 "nbformat_minor": 2
}
