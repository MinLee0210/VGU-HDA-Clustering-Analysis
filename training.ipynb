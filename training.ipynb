{
 "cells": [
  {
   "cell_type": "code",
   "execution_count": 11,
   "metadata": {},
   "outputs": [],
   "source": [
    "import os\n",
    "import numpy as np\n",
    "import matplotlib.pyplot as plt\n",
    "\n",
    "from skimage import img_as_float\n",
    "from skimage import filters\n",
    "\n",
    "from tqdm import tqdm\n",
    "from sklearn.cluster import AgglomerativeClustering\n",
    "from PIL import Image, ImageOps"
   ]
  },
  {
   "cell_type": "code",
   "execution_count": 12,
   "metadata": {},
   "outputs": [],
   "source": [
    "class Preprocessing:\n",
    "    def __init__(self, path, width, height):\n",
    "        image = Image.open(path)\n",
    "        self.image = ImageOps.grayscale(image).resize((width, height), Image.ADAPTIVE)\n",
    "\n",
    "    def sobel_filtering(self, image):\n",
    "        img = img_as_float(image)\n",
    "        self.image = filters.sobel(img)\n",
    "        \n",
    "    def display(self):\n",
    "        plt.imshow(self.image)"
   ]
  },
  {
   "cell_type": "code",
   "execution_count": 24,
   "metadata": {},
   "outputs": [],
   "source": [
    "class ImageToArray():\n",
    "    def __init__(self):\n",
    "        pass\n",
    "\n",
    "    def action(self, image, width, height):\n",
    "        preprocessing = Preprocessing(image, width, height)\n",
    "        np_img = np.array(preprocessing.image)\n",
    "        np_img = np_img.flatten()\n",
    "        return np_img"
   ]
  },
  {
   "cell_type": "code",
   "execution_count": 28,
   "metadata": {},
   "outputs": [
    {
     "name": "stderr",
     "output_type": "stream",
     "text": [
      "100%|██████████| 11/11 [00:54<00:00,  4.94s/it]\n"
     ]
    },
    {
     "data": {
      "text/plain": [
       "array([['92', '92', '92', ..., '122', '123', 'cat'],\n",
       "       ['128', '128', '128', ..., '234', '234', 'cat'],\n",
       "       ['173', '169', '165', ..., '108', '108', 'cat'],\n",
       "       ...,\n",
       "       ['70', '70', '71', ..., '170', '170', 'pug'],\n",
       "       ['7', '7', '7', ..., '9', '9', 'pug'],\n",
       "       ['181', '181', '181', ..., '211', '211', 'pug']], dtype='<U7')"
      ]
     },
     "execution_count": 28,
     "metadata": {},
     "output_type": "execute_result"
    }
   ],
   "source": [
    "animal_list = ['cat', 'lion', 'leopard', 'tiger', 'jaguar', 'sphynx', \n",
    "                'dog', 'wolf', 'husky', 'corgi', 'pug']\n",
    "\n",
    "dataset = []\n",
    "directory = './Data/'\n",
    "image_size = (480, 360)\n",
    "for animal in tqdm(animal_list):\n",
    "    folder = directory + animal\n",
    "    for image in os.listdir(folder):\n",
    "        filename = folder + '/' + image\n",
    "        imageToArray = ImageToArray()\n",
    "        imageFlatten = imageToArray.action(filename, image_size[0], image_size[1])\n",
    "        imageFlatten = np.append(imageFlatten, [animal])\n",
    "        dataset.append(imageFlatten)\n",
    "\n",
    "dataset = np.array(dataset)\n",
    "dataset"
   ]
  },
  {
   "cell_type": "code",
   "execution_count": 29,
   "metadata": {},
   "outputs": [
    {
     "data": {
      "text/plain": [
       "(652, 172801)"
      ]
     },
     "execution_count": 29,
     "metadata": {},
     "output_type": "execute_result"
    }
   ],
   "source": [
    "dataset.shape"
   ]
  },
  {
   "cell_type": "code",
   "execution_count": 33,
   "metadata": {},
   "outputs": [
    {
     "data": {
      "text/plain": [
       "array(['cat', 'cat', 'cat', 'cat', 'cat', 'cat', 'cat', 'cat', 'cat',\n",
       "       'cat', 'cat', 'cat', 'cat', 'cat', 'cat', 'cat', 'cat', 'cat',\n",
       "       'cat', 'cat', 'cat', 'cat', 'cat', 'cat', 'cat', 'cat', 'cat',\n",
       "       'cat', 'cat', 'cat', 'cat', 'cat', 'cat', 'cat', 'cat', 'cat',\n",
       "       'cat', 'cat', 'cat', 'cat', 'cat', 'cat', 'cat', 'cat', 'cat',\n",
       "       'cat', 'cat', 'cat', 'cat', 'cat', 'cat', 'cat', 'cat', 'cat',\n",
       "       'cat', 'cat', 'cat', 'cat', 'cat', 'cat', 'cat', 'cat', 'lion',\n",
       "       'lion', 'lion', 'lion', 'lion', 'lion', 'lion', 'lion', 'lion',\n",
       "       'lion', 'lion', 'lion', 'lion', 'lion', 'lion', 'lion', 'lion',\n",
       "       'lion', 'lion', 'lion', 'lion', 'lion', 'lion', 'lion', 'lion',\n",
       "       'lion', 'lion', 'lion', 'lion', 'lion', 'lion', 'lion', 'lion',\n",
       "       'lion', 'lion', 'lion', 'lion', 'lion', 'lion', 'lion', 'lion',\n",
       "       'lion', 'lion', 'lion', 'lion', 'lion', 'lion', 'lion', 'lion',\n",
       "       'lion', 'lion', 'lion', 'lion', 'lion', 'lion', 'lion', 'lion',\n",
       "       'lion', 'lion', 'lion', 'lion', 'leopard', 'leopard', 'leopard',\n",
       "       'leopard', 'leopard', 'leopard', 'leopard', 'leopard', 'leopard',\n",
       "       'leopard', 'leopard', 'leopard', 'leopard', 'leopard', 'leopard',\n",
       "       'leopard', 'leopard', 'leopard', 'leopard', 'leopard', 'leopard',\n",
       "       'leopard', 'leopard', 'leopard', 'leopard', 'leopard', 'leopard',\n",
       "       'leopard', 'leopard', 'leopard', 'leopard', 'leopard', 'leopard',\n",
       "       'leopard', 'leopard', 'leopard', 'leopard', 'leopard', 'leopard',\n",
       "       'leopard', 'leopard', 'leopard', 'leopard', 'leopard', 'leopard',\n",
       "       'leopard', 'leopard', 'leopard', 'leopard', 'leopard', 'leopard',\n",
       "       'leopard', 'leopard', 'leopard', 'leopard', 'leopard', 'leopard',\n",
       "       'leopard', 'leopard', 'leopard', 'leopard', 'leopard', 'leopard',\n",
       "       'leopard', 'leopard', 'leopard', 'tiger', 'tiger', 'tiger',\n",
       "       'tiger', 'tiger', 'tiger', 'tiger', 'tiger', 'tiger', 'tiger',\n",
       "       'tiger', 'tiger', 'tiger', 'tiger', 'tiger', 'tiger', 'tiger',\n",
       "       'tiger', 'tiger', 'tiger', 'tiger', 'tiger', 'tiger', 'tiger',\n",
       "       'tiger', 'tiger', 'tiger', 'tiger', 'tiger', 'tiger', 'tiger',\n",
       "       'tiger', 'tiger', 'tiger', 'tiger', 'tiger', 'tiger', 'tiger',\n",
       "       'tiger', 'tiger', 'tiger', 'tiger', 'tiger', 'tiger', 'tiger',\n",
       "       'tiger', 'tiger', 'tiger', 'tiger', 'tiger', 'tiger', 'tiger',\n",
       "       'tiger', 'tiger', 'tiger', 'tiger', 'tiger', 'tiger', 'tiger',\n",
       "       'tiger', 'tiger', 'tiger', 'tiger', 'tiger', 'tiger', 'tiger',\n",
       "       'tiger', 'tiger', 'tiger', 'tiger', 'tiger', 'tiger', 'tiger',\n",
       "       'tiger', 'tiger', 'tiger', 'tiger', 'jaguar', 'jaguar', 'jaguar',\n",
       "       'jaguar', 'jaguar', 'jaguar', 'jaguar', 'jaguar', 'jaguar',\n",
       "       'jaguar', 'jaguar', 'jaguar', 'jaguar', 'jaguar', 'jaguar',\n",
       "       'jaguar', 'jaguar', 'jaguar', 'jaguar', 'jaguar', 'jaguar',\n",
       "       'jaguar', 'jaguar', 'jaguar', 'jaguar', 'jaguar', 'jaguar',\n",
       "       'jaguar', 'jaguar', 'jaguar', 'jaguar', 'jaguar', 'jaguar',\n",
       "       'jaguar', 'jaguar', 'jaguar', 'jaguar', 'jaguar', 'jaguar',\n",
       "       'jaguar', 'jaguar', 'jaguar', 'jaguar', 'jaguar', 'jaguar',\n",
       "       'jaguar', 'jaguar', 'jaguar', 'jaguar', 'jaguar', 'sphynx',\n",
       "       'sphynx', 'sphynx', 'sphynx', 'sphynx', 'sphynx', 'sphynx',\n",
       "       'sphynx', 'sphynx', 'sphynx', 'sphynx', 'sphynx', 'sphynx',\n",
       "       'sphynx', 'sphynx', 'sphynx', 'sphynx', 'sphynx', 'sphynx',\n",
       "       'sphynx', 'sphynx', 'sphynx', 'sphynx', 'sphynx', 'sphynx',\n",
       "       'sphynx', 'sphynx', 'sphynx', 'sphynx', 'sphynx', 'sphynx',\n",
       "       'sphynx', 'sphynx', 'sphynx', 'sphynx', 'sphynx', 'sphynx',\n",
       "       'sphynx', 'sphynx', 'sphynx', 'sphynx', 'sphynx', 'sphynx',\n",
       "       'sphynx', 'sphynx', 'sphynx', 'sphynx', 'sphynx', 'sphynx', 'dog',\n",
       "       'dog', 'dog', 'dog', 'dog', 'dog', 'dog', 'dog', 'dog', 'dog',\n",
       "       'dog', 'dog', 'dog', 'dog', 'dog', 'dog', 'dog', 'dog', 'dog',\n",
       "       'dog', 'dog', 'dog', 'dog', 'dog', 'dog', 'dog', 'dog', 'dog',\n",
       "       'dog', 'dog', 'dog', 'dog', 'dog', 'dog', 'dog', 'dog', 'dog',\n",
       "       'dog', 'dog', 'dog', 'dog', 'dog', 'dog', 'dog', 'dog', 'dog',\n",
       "       'dog', 'dog', 'wolf', 'wolf', 'wolf', 'wolf', 'wolf', 'wolf',\n",
       "       'wolf', 'wolf', 'wolf', 'wolf', 'wolf', 'wolf', 'wolf', 'wolf',\n",
       "       'wolf', 'wolf', 'wolf', 'wolf', 'wolf', 'wolf', 'wolf', 'wolf',\n",
       "       'wolf', 'wolf', 'wolf', 'wolf', 'wolf', 'wolf', 'wolf', 'wolf',\n",
       "       'wolf', 'wolf', 'wolf', 'wolf', 'wolf', 'wolf', 'wolf', 'wolf',\n",
       "       'wolf', 'wolf', 'wolf', 'wolf', 'wolf', 'wolf', 'wolf', 'wolf',\n",
       "       'wolf', 'wolf', 'wolf', 'wolf', 'wolf', 'wolf', 'wolf', 'wolf',\n",
       "       'wolf', 'wolf', 'wolf', 'wolf', 'wolf', 'wolf', 'wolf', 'wolf',\n",
       "       'wolf', 'wolf', 'wolf', 'wolf', 'wolf', 'wolf', 'wolf', 'wolf',\n",
       "       'husky', 'husky', 'husky', 'husky', 'husky', 'husky', 'husky',\n",
       "       'husky', 'husky', 'husky', 'husky', 'husky', 'husky', 'husky',\n",
       "       'husky', 'husky', 'husky', 'husky', 'husky', 'husky', 'husky',\n",
       "       'husky', 'husky', 'husky', 'husky', 'husky', 'husky', 'husky',\n",
       "       'husky', 'husky', 'husky', 'husky', 'husky', 'husky', 'husky',\n",
       "       'husky', 'husky', 'husky', 'husky', 'husky', 'husky', 'husky',\n",
       "       'husky', 'husky', 'husky', 'husky', 'husky', 'husky', 'husky',\n",
       "       'husky', 'husky', 'husky', 'husky', 'husky', 'husky', 'husky',\n",
       "       'husky', 'husky', 'husky', 'husky', 'husky', 'corgi', 'corgi',\n",
       "       'corgi', 'corgi', 'corgi', 'corgi', 'corgi', 'corgi', 'corgi',\n",
       "       'corgi', 'corgi', 'corgi', 'corgi', 'corgi', 'corgi', 'corgi',\n",
       "       'corgi', 'corgi', 'corgi', 'corgi', 'corgi', 'corgi', 'corgi',\n",
       "       'corgi', 'corgi', 'corgi', 'corgi', 'corgi', 'corgi', 'corgi',\n",
       "       'corgi', 'corgi', 'corgi', 'corgi', 'corgi', 'corgi', 'corgi',\n",
       "       'corgi', 'corgi', 'corgi', 'corgi', 'corgi', 'corgi', 'corgi',\n",
       "       'corgi', 'corgi', 'corgi', 'corgi', 'pug', 'pug', 'pug', 'pug',\n",
       "       'pug', 'pug', 'pug', 'pug', 'pug', 'pug', 'pug', 'pug', 'pug',\n",
       "       'pug', 'pug', 'pug', 'pug', 'pug', 'pug', 'pug', 'pug', 'pug',\n",
       "       'pug', 'pug', 'pug', 'pug', 'pug', 'pug', 'pug', 'pug', 'pug',\n",
       "       'pug', 'pug', 'pug', 'pug', 'pug', 'pug', 'pug', 'pug', 'pug',\n",
       "       'pug', 'pug', 'pug', 'pug', 'pug', 'pug', 'pug', 'pug', 'pug',\n",
       "       'pug', 'pug', 'pug', 'pug', 'pug', 'pug', 'pug', 'pug', 'pug',\n",
       "       'pug', 'pug'], dtype='<U7')"
      ]
     },
     "execution_count": 33,
     "metadata": {},
     "output_type": "execute_result"
    }
   ],
   "source": [
    "X = dataset[:, :172801]\n",
    "y = dataset[:, -1]"
   ]
  },
  {
   "cell_type": "code",
   "execution_count": null,
   "metadata": {},
   "outputs": [],
   "source": []
  },
  {
   "cell_type": "code",
   "execution_count": null,
   "metadata": {},
   "outputs": [],
   "source": []
  }
 ],
 "metadata": {
  "kernelspec": {
   "display_name": "Python 3.10.6 64-bit",
   "language": "python",
   "name": "python3"
  },
  "language_info": {
   "codemirror_mode": {
    "name": "ipython",
    "version": 3
   },
   "file_extension": ".py",
   "mimetype": "text/x-python",
   "name": "python",
   "nbconvert_exporter": "python",
   "pygments_lexer": "ipython3",
   "version": "3.10.6"
  },
  "orig_nbformat": 4,
  "vscode": {
   "interpreter": {
    "hash": "916dbcbb3f70747c44a77c7bcd40155683ae19c65e1c03b4aa3499c5328201f1"
   }
  }
 },
 "nbformat": 4,
 "nbformat_minor": 2
}
