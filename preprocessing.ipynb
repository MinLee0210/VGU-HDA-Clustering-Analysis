{
 "cells": [
  {
   "cell_type": "code",
   "execution_count": 17,
   "metadata": {},
   "outputs": [],
   "source": [
    "import os\n",
    "import numpy as np\n",
    "import warnings\n",
    "import matplotlib.pyplot as plt\n",
    "import matplotlib.image as mpimg\n",
    "\n",
    "from tqdm import tqdm\n",
    "from PIL import Image, ImageOps\n",
    "\n",
    "warnings.filterwarnings(\"ignore\", \"(Possibly )?corrupt EXIF data\", UserWarning)\n",
    "Image.MAX_IMAGE_PIXELS = None"
   ]
  },
  {
   "cell_type": "code",
   "execution_count": 7,
   "metadata": {},
   "outputs": [],
   "source": [
    "animal_list = ['cat', 'lion', 'leopard', 'tiger', 'jaguar', 'sphynx', \n",
    "                'dog', 'wolf', 'husky', 'corgi', 'pug']\n",
    "\n",
    "# animal_list = ['cat']\n",
    "\n",
    "DATA_PATH = './Data/'"
   ]
  },
  {
   "cell_type": "code",
   "execution_count": 25,
   "metadata": {},
   "outputs": [
    {
     "name": "stderr",
     "output_type": "stream",
     "text": [
      "100%|██████████| 11/11 [00:02<00:00,  5.28it/s]\n"
     ]
    }
   ],
   "source": [
    "for animal in tqdm(animal_list):\n",
    "    path = DATA_PATH + animal\n",
    "    list_dir = [path + '/' + name for name in os.listdir(path) if name.endswith((\".jpg\", \".png\", \".jpeg\"))]\n",
    "    for image in list_dir:\n",
    "        img = Image.open(image)\n",
    "        gray_img = ImageOps.grayscale(img).resize((480, 360),  Image.ANTIALIAS)\n",
    "        filename = image\n",
    "\n",
    "        os.remove(image)\n",
    "       \n",
    "        gray_img.save(filename, 'JPEG', quality=90)"
   ]
  },
  {
   "cell_type": "code",
   "execution_count": 20,
   "metadata": {},
   "outputs": [
    {
     "data": {
      "text/plain": [
       "(307, 500)"
      ]
     },
     "execution_count": 20,
     "metadata": {},
     "output_type": "execute_result"
    }
   ],
   "source": [
    "EXAMPLE_PATH = './Data/cat/cat_21284_90673.jpg'\n",
    "\n",
    "og_image= Image.open(EXAMPLE_PATH)\n",
    "\n",
    "\n",
    "test = np.array(gray_image)\n",
    "test.shape"
   ]
  },
  {
   "cell_type": "code",
   "execution_count": null,
   "metadata": {},
   "outputs": [],
   "source": []
  },
  {
   "cell_type": "code",
   "execution_count": null,
   "metadata": {},
   "outputs": [],
   "source": []
  }
 ],
 "metadata": {
  "kernelspec": {
   "display_name": "Python 3.10.6 64-bit",
   "language": "python",
   "name": "python3"
  },
  "language_info": {
   "codemirror_mode": {
    "name": "ipython",
    "version": 3
   },
   "file_extension": ".py",
   "mimetype": "text/x-python",
   "name": "python",
   "nbconvert_exporter": "python",
   "pygments_lexer": "ipython3",
   "version": "3.10.6"
  },
  "orig_nbformat": 4,
  "vscode": {
   "interpreter": {
    "hash": "916dbcbb3f70747c44a77c7bcd40155683ae19c65e1c03b4aa3499c5328201f1"
   }
  }
 },
 "nbformat": 4,
 "nbformat_minor": 2
}
